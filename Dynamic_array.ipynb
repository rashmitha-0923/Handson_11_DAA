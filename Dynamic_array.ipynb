{
  "nbformat": 4,
  "nbformat_minor": 0,
  "metadata": {
    "colab": {
      "provenance": []
    },
    "kernelspec": {
      "name": "python3",
      "display_name": "Python 3"
    },
    "language_info": {
      "name": "python"
    }
  },
  "cells": [
    {
      "cell_type": "code",
      "execution_count": 1,
      "metadata": {
        "colab": {
          "base_uri": "https://localhost:8080/"
        },
        "id": "1h8DaGEzWWwK",
        "outputId": "6ad57862-2107-4bc8-c64b-5c0f767a153c"
      },
      "outputs": [
        {
          "output_type": "stream",
          "name": "stdout",
          "text": [
            "Initial list: []\n",
            "Item at index 0: 5\n",
            "Item at index 1: 15\n",
            "Item at index 2: 25\n",
            "List after updating index 1 to 100: [5, 100, 25]\n",
            "Final list: [5, 100, 25]\n",
            "Final list length: 3\n"
          ]
        }
      ],
      "source": [
        "class DynamicList:\n",
        "    def __init__(self):\n",
        "        self.length = 0               # Number of elements currently stored in the list\n",
        "        self.capacity = 1             # Initial allocated size of the internal storage\n",
        "        self.data = self._initialize_array(self.capacity)\n",
        "\n",
        "    def _initialize_array(self, capacity):\n",
        "        \"\"\"Creates a new array of a given capacity initialized to None.\"\"\"\n",
        "        return [None] * capacity\n",
        "\n",
        "    def _increase_capacity(self, new_capacity):\n",
        "        \"\"\"Expands the list's capacity by allocating a new larger array and copying the elements.\"\"\"\n",
        "        new_array = self._initialize_array(new_capacity)\n",
        "        for index in range(self.length):\n",
        "            new_array[index] = self.data[index]  # Copy existing elements to the new array\n",
        "        self.data = new_array  # Point to the new array\n",
        "        self.capacity = new_capacity  # Update the capacity\n",
        "\n",
        "    def append(self, item):\n",
        "        \"\"\"Adds a new item to the end of the list. Resizes the list if it's full.\"\"\"\n",
        "        if self.length == self.capacity:\n",
        "            # If the list is full, double its capacity\n",
        "            self._increase_capacity(2 * self.capacity)\n",
        "        self.data[self.length] = item  # Place the new item at the next available index\n",
        "        self.length += 1  # Increase the list size after the append\n",
        "\n",
        "    def fetch(self, index):\n",
        "        \"\"\"Retrieves the item at the specified index. Raises IndexError if out of bounds.\"\"\"\n",
        "        if 0 <= index < self.length:\n",
        "            return self.data[index]  # Return the item at the given index\n",
        "        raise IndexError(\"Index out of bounds\")  # If index is invalid, raise error\n",
        "\n",
        "    def update(self, index, item):\n",
        "        \"\"\"Updates the item at the given index. Raises IndexError if index is invalid.\"\"\"\n",
        "        if 0 <= index < self.length:\n",
        "            self.data[index] = item  # Replace the existing value at the specified index\n",
        "        else:\n",
        "            raise IndexError(\"Index out of bounds\")  # If index is invalid, raise error\n",
        "\n",
        "    def remove_last(self):\n",
        "        \"\"\"Removes the last item from the list. Shrinks the list if size becomes too small.\"\"\"\n",
        "        if self.length > 0:\n",
        "            self.length -= 1  # Decrease the length as the last item is removed\n",
        "            # If the size of the list is a quarter of the capacity, shrink the capacity\n",
        "            if self.length <= self.capacity // 4:\n",
        "                self._increase_capacity(max(1, self.capacity // 2))  # Shrink to half, but at least size 1\n",
        "        else:\n",
        "            raise IndexError(\"Cannot remove from empty list\")  # Raise error if trying to remove from an empty list\n",
        "\n",
        "    def __repr__(self):\n",
        "        \"\"\"Returns a string representation of the list, showing only the elements.\"\"\"\n",
        "        return str([self.data[i] for i in range(self.length)])  # Return list of elements up to 'length'\n",
        "\n",
        "\n",
        "# Testing the DynamicList class\n",
        "dynamic_list = DynamicList()\n",
        "print(\"Initial list:\", dynamic_list)\n",
        "\n",
        "# Append items to the list\n",
        "dynamic_list.append(5)\n",
        "dynamic_list.append(15)\n",
        "dynamic_list.append(25)\n",
        "\n",
        "# Access items using fetch\n",
        "print(\"Item at index 0:\", dynamic_list.fetch(0))\n",
        "print(\"Item at index 1:\", dynamic_list.fetch(1))\n",
        "print(\"Item at index 2:\", dynamic_list.fetch(2))\n",
        "\n",
        "# Modify items using update\n",
        "dynamic_list.update(1, 100)\n",
        "print(\"List after updating index 1 to 100:\", dynamic_list)\n",
        "\n",
        "# Append more items to trigger resizing\n",
        "dynamic_list.append(35)\n",
        "dynamic_list.append(45)\n",
        "\n",
        "# Remove items\n",
        "dynamic_list.remove_last()\n",
        "dynamic_list.remove_last()\n",
        "\n",
        "# Final state of the list\n",
        "print(\"Final list:\", dynamic_list)\n",
        "print(\"Final list length:\", dynamic_list.length)\n"
      ]
    }
  ]
}